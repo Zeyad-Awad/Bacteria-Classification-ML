{
 "cells": [
  {
   "cell_type": "markdown",
   "metadata": {},
   "source": [
    "# Data Scraping"
   ]
  },
  {
   "cell_type": "code",
   "execution_count": 1,
   "metadata": {},
   "outputs": [],
   "source": [
    "# Import libraries\n",
    "import pandas as pd\n",
    "from selenium import webdriver\n",
    "from selenium.webdriver.common.by import By\n",
    "from selenium.webdriver.common.keys import Keys\n",
    "import time\n",
    "import random\n",
    "random.seed(42)"
   ]
  },
  {
   "cell_type": "markdown",
   "metadata": {},
   "source": [
    "## Data Scraping"
   ]
  },
  {
   "cell_type": "code",
   "execution_count": 2,
   "metadata": {},
   "outputs": [],
   "source": [
    "with open('3.txt', 'r') as f:\n",
    "    names = [line.strip() for line in f]"
   ]
  },
  {
   "cell_type": "code",
   "execution_count": 3,
   "metadata": {},
   "outputs": [],
   "source": [
    "from selenium import webdriver\n",
    "from selenium.webdriver.chrome.service import Service\n",
    "from webdriver_manager.chrome import ChromeDriverManager\n",
    "\n",
    "driver = webdriver.Chrome(service=Service(ChromeDriverManager().install()))"
   ]
  },
  {
   "cell_type": "code",
   "execution_count": 4,
   "metadata": {},
   "outputs": [],
   "source": [
    "# Initiate the bot\n",
    "url = 'https://gtdb.ecogenomic.org/advanced?exp=KDEmMiYzJig2KSk~&1=NX42fm51bGw~&2=N345fjU~&3=Nn4xMX45NQ~~&6=Mn4yfmtraw~~'\n",
    "driver.get(url)\n",
    "action = webdriver.ActionChains(driver)"
   ]
  },
  {
   "cell_type": "code",
   "execution_count": 5,
   "metadata": {},
   "outputs": [],
   "source": [
    "inpt = driver.find_element(By.XPATH, '/html/body/div/div/div/div/main/div/div/div/div[1]/div/div/div[2]/div/div/div[5]/div/div[2]/div/div/div[3]/div/div/div/div[1]/input')\n",
    "submit = driver.find_element(By.XPATH, '//*[@id=\"app\"]/div/main/div/div/div/div[1]/div/div/div[3]/button/span')"
   ]
  },
  {
   "cell_type": "code",
   "execution_count": 7,
   "metadata": {},
   "outputs": [],
   "source": [
    "download = driver.find_element(By.XPATH, '//*[@id=\"app\"]/div[1]/main/div/div/div/div[2]/div/div[1]/div/button/span')"
   ]
  },
  {
   "cell_type": "code",
   "execution_count": 11,
   "metadata": {},
   "outputs": [],
   "source": [
    "curl = driver.find_element(By.XPATH, '//*[@id=\"app\"]/div[4]/div/div/div[3]/button[1]/span')"
   ]
  },
  {
   "cell_type": "code",
   "execution_count": 13,
   "metadata": {},
   "outputs": [],
   "source": [
    "nowhere = driver.find_element(By.XPATH, '//*[@id=\"app\"]/div[4]/div/div/div[2]/div/div/div[5]/div/div[1]/label')"
   ]
  },
  {
   "cell_type": "code",
   "execution_count": 14,
   "metadata": {},
   "outputs": [
    {
     "name": "stdout",
     "output_type": "stream",
     "text": [
      "Downloaded lactobacillus iners\n",
      "Downloaded: lactobacillus crispatus\n",
      "Downloaded: lactobacillus gasseri\n",
      "Downloaded: lactobacillus jensenii\n",
      "Downloaded: Bifidobacterium animalis\n",
      "Downloaded: Bifidobacterium breve\n",
      "Failed: Bifidobacterium lactis\n",
      "Downloaded: Bifidobacterium longum\n",
      "Failed: Bifidobacterium acidophilus\n",
      "Downloaded: Limosilactobacillus reuteri\n",
      "Downloaded: Bacteroides fragilis\n",
      "Failed: Bacteroides melaninogenicus\n",
      "Downloaded: Enterococcus faecalis\n"
     ]
    }
   ],
   "source": [
    "inpt.click()\n",
    "inpt.clear()\n",
    "inpt.send_keys(Keys.COMMAND, 'a')\n",
    "inpt.send_keys(Keys.DELETE)\n",
    "inpt.send_keys(names[0])\n",
    "submit.click()\n",
    "time.sleep(4)\n",
    "download.click()\n",
    "time.sleep(3)\n",
    "action.key_down(Keys.COMMAND).click(curl).key_up(Keys.COMMAND).perform()\n",
    "time.sleep(1.5)\n",
    "nowhere.click()\n",
    "nowhere.click()\n",
    "webdriver.ActionChains(driver).send_keys(Keys.ESCAPE).perform()\n",
    "print(f'Downloaded {names[0]}')\n",
    "\n",
    "for name in names[1:]:\n",
    "    try:\n",
    "        webdriver.ActionChains(driver).send_keys(Keys.ESCAPE).perform()\n",
    "        inpt.click()\n",
    "        inpt.clear()\n",
    "        inpt.send_keys(Keys.COMMAND, 'a')\n",
    "        inpt.send_keys(Keys.DELETE)\n",
    "        inpt.send_keys(name)\n",
    "        submit.click()\n",
    "        time.sleep(14)\n",
    "        download.click()\n",
    "        time.sleep(0.8)\n",
    "        action.key_down(Keys.COMMAND).click(curl).key_up(Keys.COMMAND).perform()\n",
    "        time.sleep(0.1)\n",
    "        nowhere.click() \n",
    "        nowhere.click()\n",
    "        webdriver.ActionChains(driver).send_keys(Keys.ESCAPE).perform()\n",
    "        print(f'Downloaded: {name}')\n",
    "    except:\n",
    "        print(f'Failed: {name}')"
   ]
  },
  {
   "cell_type": "code",
   "execution_count": null,
   "metadata": {},
   "outputs": [],
   "source": [
    "with open('out.txt', 'r') as f:\n",
    "    out"
   ]
  }
 ],
 "metadata": {
  "kernelspec": {
   "display_name": "minimal_ds",
   "language": "python",
   "name": "python3"
  },
  "language_info": {
   "codemirror_mode": {
    "name": "ipython",
    "version": 3
   },
   "file_extension": ".py",
   "mimetype": "text/x-python",
   "name": "python",
   "nbconvert_exporter": "python",
   "pygments_lexer": "ipython3",
   "version": "3.12.2"
  },
  "orig_nbformat": 4
 },
 "nbformat": 4,
 "nbformat_minor": 2
}
