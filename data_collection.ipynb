{
 "cells": [
  {
   "cell_type": "markdown",
   "metadata": {},
   "source": [
    "# Data Collection and Preprocessing"
   ]
  },
  {
   "cell_type": "code",
   "execution_count": 8,
   "metadata": {},
   "outputs": [],
   "source": [
    "import os\n",
    "import utilities as utils"
   ]
  },
  {
   "cell_type": "code",
   "execution_count": 32,
   "metadata": {},
   "outputs": [],
   "source": [
    "with open('out.txt', 'r') as f:\n",
    "    labels = [line.split(': s__')[1].strip() for line in f]"
   ]
  },
  {
   "cell_type": "code",
   "execution_count": 33,
   "metadata": {},
   "outputs": [],
   "source": [
    "listing = os.listdir('curls')\n",
    "ids = []\n",
    "for i in range(len(listing)):\n",
    "    path = os.path.join('curls', f'gtdb-adv-search-genomes ({i+1}).sh')\n",
    "    with open(path, 'r') as f:\n",
    "        next(f)\n",
    "        tmp = f.read()\n",
    "        parts = tmp.split('\"')\n",
    "        url = parts[1]\n",
    "        id = url.split('=')[-1].split('&')[0].split('.zip')[0]\n",
    "        ids.append(id)"
   ]
  },
  {
   "cell_type": "code",
   "execution_count": 35,
   "metadata": {},
   "outputs": [],
   "source": [
    "#ids, labels = utils.get_ids_and_labels('names/names.txt')\n",
    "dataset = 'new_data'"
   ]
  },
  {
   "cell_type": "code",
   "execution_count": 36,
   "metadata": {},
   "outputs": [
    {
     "name": "stdout",
     "output_type": "stream",
     "text": [
      "Writing script ...\n",
      "Running script ...\n"
     ]
    },
    {
     "name": "stderr",
     "output_type": "stream",
     "text": [
      "usage: rm [-f | -i] [-dIPRrvWx] file ...\n",
      "       unlink [--] file\n",
      "  % Total    % Received % Xferd  Average Speed   Time    Time     Time  Current\n",
      "                                 Dload  Upload   Total   Spent    Left  Speed\n",
      "100 1578k    0 1578k    0     0  1392k      0 --:--:--  0:00:01 --:--:-- 1392k\n",
      "mv: ./README.md and ./README.md are identical\n",
      "usage: rm [-f | -i] [-dIPRrvWx] file ...\n",
      "       unlink [--] file\n",
      "  % Total    % Received % Xferd  Average Speed   Time    Time     Time  Current\n",
      "                                 Dload  Upload   Total   Spent    Left  Speed\n",
      "  0     0    0     0    0     0      0      0 --:--:-- --:--:-- --:--:--     0"
     ]
    },
    {
     "name": "stdout",
     "output_type": "stream",
     "text": [
      "Extracting and cleaning ... \n",
      "Archive:  GCF_000742895.1.zip\n",
      "  inflating: README.md               \n",
      "  inflating: ncbi_dataset/data/assembly_data_report.jsonl  \n",
      "  inflating: ncbi_dataset/data/GCF_000742895.1/GCF_000742895.1_ASM74289v1_genomic.fna  \n",
      "  inflating: ncbi_dataset/data/dataset_catalog.json  \n",
      "Cleaning ...\n",
      "Success!\n",
      "Writing script ...\n",
      "Running script ...\n"
     ]
    },
    {
     "name": "stderr",
     "output_type": "stream",
     "text": [
      "100 1691k    0 1691k    0     0  1999k      0 --:--:-- --:--:-- --:--:-- 1997k\n",
      "mv: ./README.md and ./README.md are identical\n",
      "usage: rm [-f | -i] [-dIPRrvWx] file ...\n",
      "       unlink [--] file\n",
      "  % Total    % Received % Xferd  Average Speed   Time    Time     Time  Current\n",
      "                                 Dload  Upload   Total   Spent    Left  Speed\n",
      "  0     0    0     0    0     0      0      0 --:--:-- --:--:-- --:--:--     0"
     ]
    },
    {
     "name": "stdout",
     "output_type": "stream",
     "text": [
      "Extracting and cleaning ... \n",
      "Archive:  GCF_006384875.1.zip\n",
      "  inflating: README.md               \n",
      "  inflating: ncbi_dataset/data/assembly_data_report.jsonl  \n",
      "  inflating: ncbi_dataset/data/GCF_006384875.1/GCF_006384875.1_ASM638487v1_genomic.fna  \n",
      "  inflating: ncbi_dataset/data/dataset_catalog.json  \n",
      "Cleaning ...\n",
      "Success!\n",
      "Writing script ...\n",
      "Running script ...\n"
     ]
    },
    {
     "name": "stderr",
     "output_type": "stream",
     "text": [
      "100  550k    0  550k    0     0   330k      0 --:--:--  0:00:01 --:--:--  329k\n",
      "mv: ./README.md and ./README.md are identical\n",
      "usage: rm [-f | -i] [-dIPRrvWx] file ...\n",
      "       unlink [--] file\n",
      "  % Total    % Received % Xferd  Average Speed   Time    Time     Time  Current\n",
      "                                 Dload  Upload   Total   Spent    Left  Speed\n",
      "  0     0    0     0    0     0      0      0 --:--:-- --:--:-- --:--:--     0"
     ]
    },
    {
     "name": "stdout",
     "output_type": "stream",
     "text": [
      "Extracting and cleaning ... \n",
      "Archive:  GCF_000046705.1.zip\n",
      "  inflating: README.md               \n",
      "  inflating: ncbi_dataset/data/assembly_data_report.jsonl  \n",
      "  inflating: ncbi_dataset/data/GCF_000046705.1/GCF_000046705.1_ASM4670v1_genomic.fna  \n",
      "  inflating: ncbi_dataset/data/dataset_catalog.json  \n",
      "Cleaning ...\n",
      "Success!\n",
      "Writing script ...\n",
      "Running script ...\n"
     ]
    },
    {
     "name": "stderr",
     "output_type": "stream",
     "text": [
      "100  460k    0  460k    0     0   237k      0 --:--:--  0:00:01 --:--:--  237k\n",
      "mv: ./README.md and ./README.md are identical\n",
      "usage: rm [-f | -i] [-dIPRrvWx] file ...\n",
      "       unlink [--] file\n",
      "  % Total    % Received % Xferd  Average Speed   Time    Time     Time  Current\n",
      "                                 Dload  Upload   Total   Spent    Left  Speed\n",
      "  0     0    0     0    0     0      0      0 --:--:-- --:--:-- --:--:--     0"
     ]
    },
    {
     "name": "stdout",
     "output_type": "stream",
     "text": [
      "Extracting and cleaning ... \n",
      "Archive:  GCF_009936175.1.zip\n",
      "  inflating: README.md               \n",
      "  inflating: ncbi_dataset/data/assembly_data_report.jsonl  \n",
      "  inflating: ncbi_dataset/data/GCF_009936175.1/GCF_009936175.1_ASM993617v1_genomic.fna  \n",
      "  inflating: ncbi_dataset/data/dataset_catalog.json  \n",
      "Cleaning ...\n",
      "Success!\n",
      "Writing script ...\n",
      "Running script ...\n"
     ]
    },
    {
     "name": "stderr",
     "output_type": "stream",
     "text": [
      "100 1101k    0 1101k    0     0   388k      0 --:--:--  0:00:02 --:--:--  388k\n",
      "mv: ./README.md and ./README.md are identical\n",
      "usage: rm [-f | -i] [-dIPRrvWx] file ...\n",
      "       unlink [--] file\n",
      "  % Total    % Received % Xferd  Average Speed   Time    Time     Time  Current\n",
      "                                 Dload  Upload   Total   Spent    Left  Speed\n",
      "  0     0    0     0    0     0      0      0 --:--:-- --:--:-- --:--:--     0"
     ]
    },
    {
     "name": "stdout",
     "output_type": "stream",
     "text": [
      "Extracting and cleaning ... \n",
      "Archive:  GCF_000306945.1.zip\n",
      "  inflating: README.md               \n",
      "  inflating: ncbi_dataset/data/assembly_data_report.jsonl  \n",
      "  inflating: ncbi_dataset/data/GCF_000306945.1/GCF_000306945.1_ASM30694v1_genomic.fna  \n",
      "  inflating: ncbi_dataset/data/dataset_catalog.json  \n",
      "Cleaning ...\n",
      "Success!\n",
      "Writing script ...\n",
      "Running script ...\n"
     ]
    },
    {
     "name": "stderr",
     "output_type": "stream",
     "text": [
      "100  344k    0  344k    0     0   713k      0 --:--:-- --:--:-- --:--:--  714k\n",
      "mv: ./README.md and ./README.md are identical\n",
      "usage: rm [-f | -i] [-dIPRrvWx] file ...\n",
      "       unlink [--] file\n",
      "  % Total    % Received % Xferd  Average Speed   Time    Time     Time  Current\n",
      "                                 Dload  Upload   Total   Spent    Left  Speed\n",
      "  0     0    0     0    0     0      0      0 --:--:-- --:--:-- --:--:--     0"
     ]
    },
    {
     "name": "stdout",
     "output_type": "stream",
     "text": [
      "Extracting and cleaning ... \n",
      "Archive:  GCF_000019705.1.zip\n",
      "  inflating: README.md               \n",
      "  inflating: ncbi_dataset/data/assembly_data_report.jsonl  \n",
      "  inflating: ncbi_dataset/data/GCF_000019705.1/GCF_000019705.1_ASM1970v1_genomic.fna  \n",
      "  inflating: ncbi_dataset/data/dataset_catalog.json  \n",
      "Cleaning ...\n",
      "Success!\n",
      "Writing script ...\n",
      "Running script ...\n"
     ]
    },
    {
     "name": "stderr",
     "output_type": "stream",
     "text": [
      "100  949k    0  949k    0     0   836k      0 --:--:--  0:00:01 --:--:--  836k\n",
      "mv: ./README.md and ./README.md are identical\n",
      "usage: rm [-f | -i] [-dIPRrvWx] file ...\n",
      "       unlink [--] file\n",
      "  % Total    % Received % Xferd  Average Speed   Time    Time     Time  Current\n",
      "                                 Dload  Upload   Total   Spent    Left  Speed\n",
      "  0     0    0     0    0     0      0      0 --:--:-- --:--:-- --:--:--     0"
     ]
    },
    {
     "name": "stdout",
     "output_type": "stream",
     "text": [
      "Extracting and cleaning ... \n",
      "Archive:  GCF_000007125.1.zip\n",
      "  inflating: README.md               \n",
      "  inflating: ncbi_dataset/data/assembly_data_report.jsonl  \n",
      "  inflating: ncbi_dataset/data/GCF_000007125.1/GCF_000007125.1_ASM712v1_genomic.fna  \n",
      "  inflating: ncbi_dataset/data/dataset_catalog.json  \n",
      "Cleaning ...\n",
      "Success!\n",
      "Writing script ...\n",
      "Running script ...\n"
     ]
    },
    {
     "name": "stderr",
     "output_type": "stream",
     "text": [
      "100  455k    0  455k    0     0   496k      0 --:--:-- --:--:-- --:--:--  496k\n",
      "mv: ./README.md and ./README.md are identical\n",
      "usage: rm [-f | -i] [-dIPRrvWx] file ...\n",
      "       unlink [--] file\n",
      "  % Total    % Received % Xferd  Average Speed   Time    Time     Time  Current\n",
      "                                 Dload  Upload   Total   Spent    Left  Speed\n",
      "  0     0    0     0    0     0      0      0 --:--:-- --:--:-- --:--:--     0"
     ]
    },
    {
     "name": "stdout",
     "output_type": "stream",
     "text": [
      "Extracting and cleaning ... \n",
      "Archive:  GCF_002179635.1.zip\n",
      "  inflating: README.md               \n",
      "  inflating: ncbi_dataset/data/assembly_data_report.jsonl  \n",
      "  inflating: ncbi_dataset/data/GCF_002179635.1/GCF_002179635.1_ASM217963v1_genomic.fna  \n",
      "  inflating: ncbi_dataset/data/dataset_catalog.json  \n",
      "Cleaning ...\n",
      "Success!\n",
      "Writing script ...\n",
      "Running script ...\n"
     ]
    },
    {
     "name": "stderr",
     "output_type": "stream",
     "text": [
      "100  360k    0  360k    0     0   718k      0 --:--:-- --:--:-- --:--:--  717k\n"
     ]
    },
    {
     "name": "stdout",
     "output_type": "stream",
     "text": [
      "Extracting and cleaning ... \n",
      "Archive:  GCF_000007205.1.zip\n",
      "  inflating: README.md               \n",
      "  inflating: ncbi_dataset/data/assembly_data_report.jsonl  \n",
      "  inflating: ncbi_dataset/data/GCF_000007205.1/GCF_000007205.1_ASM720v1_genomic.fna  \n",
      "  inflating: ncbi_dataset/data/dataset_catalog.json  \n",
      "Cleaning ...\n",
      "Success!\n",
      "Writing script ...\n",
      "Running script ...\n"
     ]
    },
    {
     "name": "stderr",
     "output_type": "stream",
     "text": [
      "mv: ./README.md and ./README.md are identical\n",
      "usage: rm [-f | -i] [-dIPRrvWx] file ...\n",
      "       unlink [--] file\n",
      "  % Total    % Received % Xferd  Average Speed   Time    Time     Time  Current\n",
      "                                 Dload  Upload   Total   Spent    Left  Speed\n",
      "100  308k    0  308k    0     0   662k      0 --:--:-- --:--:-- --:--:--  663k\n",
      "mv: ./README.md and ./README.md are identical\n",
      "usage: rm [-f | -i] [-dIPRrvWx] file ...\n",
      "       unlink [--] file\n",
      "  % Total    % Received % Xferd  Average Speed   Time    Time     Time  Current\n",
      "                                 Dload  Upload   Total   Spent    Left  Speed\n",
      "  0     0    0     0    0     0      0      0 --:--:-- --:--:-- --:--:--     0"
     ]
    },
    {
     "name": "stdout",
     "output_type": "stream",
     "text": [
      "Extracting and cleaning ... \n",
      "Archive:  GCF_000012125.1.zip\n",
      "  inflating: README.md               \n",
      "  inflating: ncbi_dataset/data/assembly_data_report.jsonl  \n",
      "  inflating: ncbi_dataset/data/GCF_000012125.1/GCF_000012125.1_ASM1212v1_genomic.fna  \n",
      "  inflating: ncbi_dataset/data/dataset_catalog.json  \n",
      "Cleaning ...\n",
      "Success!\n",
      "Writing script ...\n",
      "Running script ...\n"
     ]
    },
    {
     "name": "stderr",
     "output_type": "stream",
     "text": [
      "100  884k    0  884k    0     0  1693k      0 --:--:-- --:--:-- --:--:-- 1690k\n",
      "mv: ./README.md and ./README.md are identical\n",
      "usage: rm [-f | -i] [-dIPRrvWx] file ...\n",
      "       unlink [--] file\n",
      "  % Total    % Received % Xferd  Average Speed   Time    Time     Time  Current\n",
      "                                 Dload  Upload   Total   Spent    Left  Speed\n",
      "  0     0    0     0    0     0      0      0 --:--:-- --:--:-- --:--:--     0"
     ]
    },
    {
     "name": "stdout",
     "output_type": "stream",
     "text": [
      "Extracting and cleaning ... \n",
      "Archive:  GCF_000204565.1.zip\n",
      "  inflating: README.md               \n",
      "  inflating: ncbi_dataset/data/assembly_data_report.jsonl  \n",
      "  inflating: ncbi_dataset/data/GCF_000204565.1/GCF_000204565.1_ASM20456v1_genomic.fna  \n",
      "  inflating: ncbi_dataset/data/dataset_catalog.json  \n",
      "Cleaning ...\n",
      "Success!\n",
      "Writing script ...\n",
      "Running script ...\n"
     ]
    },
    {
     "name": "stderr",
     "output_type": "stream",
     "text": [
      "100  898k    0  898k    0     0   374k      0 --:--:--  0:00:02 --:--:--  374k\n",
      "mv: ./README.md and ./README.md are identical\n",
      "usage: rm [-f | -i] [-dIPRrvWx] file ...\n",
      "       unlink [--] file\n",
      "  % Total    % Received % Xferd  Average Speed   Time    Time     Time  Current\n",
      "                                 Dload  Upload   Total   Spent    Left  Speed\n",
      "  0     0    0     0    0     0      0      0 --:--:-- --:--:-- --:--:--     0"
     ]
    },
    {
     "name": "stdout",
     "output_type": "stream",
     "text": [
      "Extracting and cleaning ... \n",
      "Archive:  GCF_000013285.1.zip\n",
      "  inflating: README.md               \n",
      "  inflating: ncbi_dataset/data/assembly_data_report.jsonl  \n",
      "  inflating: ncbi_dataset/data/GCF_000013285.1/GCF_000013285.1_ASM1328v1_genomic.fna  \n",
      "  inflating: ncbi_dataset/data/dataset_catalog.json  \n",
      "Cleaning ...\n",
      "Success!\n",
      "Writing script ...\n",
      "Running script ...\n"
     ]
    },
    {
     "name": "stderr",
     "output_type": "stream",
     "text": [
      "100  778k    0  778k    0     0  1223k      0 --:--:-- --:--:-- --:--:-- 1222k\n",
      "mv: ./README.md and ./README.md are identical\n",
      "usage: rm [-f | -i] [-dIPRrvWx] file ...\n",
      "       unlink [--] file\n",
      "  % Total    % Received % Xferd  Average Speed   Time    Time     Time  Current\n",
      "                                 Dload  Upload   Total   Spent    Left  Speed\n",
      "  0     0    0     0    0     0      0      0 --:--:-- --:--:-- --:--:--     0"
     ]
    },
    {
     "name": "stdout",
     "output_type": "stream",
     "text": [
      "Extracting and cleaning ... \n",
      "Archive:  GCF_900167265.1.zip\n",
      "  inflating: README.md               \n",
      "  inflating: ncbi_dataset/data/assembly_data_report.jsonl  \n",
      "  inflating: ncbi_dataset/data/GCF_900167265.1/GCF_900167265.1_IMG-taxon_2585428146_annotated_assembly_genomic.fna  \n",
      "  inflating: ncbi_dataset/data/dataset_catalog.json  \n",
      "Cleaning ...\n",
      "Success!\n",
      "Writing script ...\n",
      "Running script ...\n"
     ]
    },
    {
     "name": "stderr",
     "output_type": "stream",
     "text": [
      "100  723k    0  723k    0     0   363k      0 --:--:--  0:00:01 --:--:--  363k\n",
      "mv: ./README.md and ./README.md are identical\n",
      "usage: rm [-f | -i] [-dIPRrvWx] file ...\n",
      "       unlink [--] file\n",
      "  % Total    % Received % Xferd  Average Speed   Time    Time     Time  Current\n",
      "                                 Dload  Upload   Total   Spent    Left  Speed\n",
      "  0     0    0     0    0     0      0      0 --:--:-- --:--:-- --:--:--     0"
     ]
    },
    {
     "name": "stdout",
     "output_type": "stream",
     "text": [
      "Extracting and cleaning ... \n",
      "Archive:  GCF_001457455.1.zip\n",
      "  inflating: README.md               \n",
      "  inflating: ncbi_dataset/data/assembly_data_report.jsonl  \n",
      "  inflating: ncbi_dataset/data/GCF_001457455.1/GCF_001457455.1_NCTC11397_genomic.fna  \n",
      "  inflating: ncbi_dataset/data/dataset_catalog.json  \n",
      "Cleaning ...\n",
      "Success!\n",
      "Writing script ...\n",
      "Running script ...\n"
     ]
    },
    {
     "name": "stderr",
     "output_type": "stream",
     "text": [
      "100  830k    0  830k    0     0   244k      0 --:--:--  0:00:03 --:--:--  244k\n",
      "mv: ./README.md and ./README.md are identical\n",
      "usage: rm [-f | -i] [-dIPRrvWx] file ...\n",
      "       unlink [--] file\n",
      "  % Total    % Received % Xferd  Average Speed   Time    Time     Time  Current\n",
      "                                 Dload  Upload   Total   Spent    Left  Speed\n",
      "  0     0    0     0    0     0      0      0 --:--:-- --:--:-- --:--:--     0"
     ]
    },
    {
     "name": "stdout",
     "output_type": "stream",
     "text": [
      "Extracting and cleaning ... \n",
      "Archive:  GCF_000392875.1.zip\n",
      "  inflating: README.md               \n",
      "  inflating: ncbi_dataset/data/assembly_data_report.jsonl  \n",
      "  inflating: ncbi_dataset/data/GCF_000392875.1/GCF_000392875.1_Ente_faec_ATCC_19433_V1_genomic.fna  \n",
      "  inflating: ncbi_dataset/data/dataset_catalog.json  \n",
      "Cleaning ...\n",
      "Success!\n",
      "Writing script ...\n",
      "Running script ...\n"
     ]
    },
    {
     "name": "stderr",
     "output_type": "stream",
     "text": [
      "100  723k    0  723k    0     0   735k      0 --:--:-- --:--:-- --:--:--  734k\n",
      "mv: ./README.md and ./README.md are identical\n",
      "usage: rm [-f | -i] [-dIPRrvWx] file ...\n",
      "       unlink [--] file\n",
      "  % Total    % Received % Xferd  Average Speed   Time    Time     Time  Current\n",
      "                                 Dload  Upload   Total   Spent    Left  Speed\n",
      "  0     0    0     0    0     0      0      0 --:--:-- --:--:-- --:--:--     0"
     ]
    },
    {
     "name": "stdout",
     "output_type": "stream",
     "text": [
      "Extracting and cleaning ... \n",
      "Archive:  GCF_001544255.1.zip\n",
      "  inflating: README.md               \n",
      "  inflating: ncbi_dataset/data/assembly_data_report.jsonl  \n",
      "  inflating: ncbi_dataset/data/GCF_001544255.1/GCF_001544255.1_ASM154425v1_genomic.fna  \n",
      "  inflating: ncbi_dataset/data/dataset_catalog.json  \n",
      "Cleaning ...\n",
      "Success!\n",
      "Writing script ...\n",
      "Running script ...\n"
     ]
    },
    {
     "name": "stderr",
     "output_type": "stream",
     "text": [
      "100 1291k    0 1291k    0     0  2121k      0 --:--:-- --:--:-- --:--:-- 2124k\n",
      "mv: ./README.md and ./README.md are identical\n",
      "usage: rm [-f | -i] [-dIPRrvWx] file ...\n",
      "       unlink [--] file\n",
      "  % Total    % Received % Xferd  Average Speed   Time    Time     Time  Current\n",
      "                                 Dload  Upload   Total   Spent    Left  Speed\n",
      "  0     0    0     0    0     0      0      0 --:--:-- --:--:-- --:--:--     0"
     ]
    },
    {
     "name": "stdout",
     "output_type": "stream",
     "text": [
      "Extracting and cleaning ... \n",
      "Archive:  GCA_021307345.1.zip\n",
      "  inflating: README.md               \n",
      "  inflating: ncbi_dataset/data/assembly_data_report.jsonl  \n",
      "  inflating: ncbi_dataset/data/GCA_021307345.1/GCA_021307345.1_ASM2130734v1_genomic.fna  \n",
      "  inflating: ncbi_dataset/data/dataset_catalog.json  \n",
      "Cleaning ...\n",
      "Success!\n",
      "Writing script ...\n",
      "Running script ...\n"
     ]
    },
    {
     "name": "stderr",
     "output_type": "stream",
     "text": [
      "100  537k    0  537k    0     0  1124k      0 --:--:-- --:--:-- --:--:-- 1123k\n",
      "mv: ./README.md and ./README.md are identical\n",
      "usage: rm [-f | -i] [-dIPRrvWx] file ...\n",
      "       unlink [--] file\n",
      "  % Total    % Received % Xferd  Average Speed   Time    Time     Time  Current\n",
      "                                 Dload  Upload   Total   Spent    Left  Speed\n",
      "  0     0    0     0    0     0      0      0 --:--:-- --:--:-- --:--:--     0"
     ]
    },
    {
     "name": "stdout",
     "output_type": "stream",
     "text": [
      "Extracting and cleaning ... \n",
      "Archive:  GCF_000008985.1.zip\n",
      "  inflating: README.md               \n",
      "  inflating: ncbi_dataset/data/assembly_data_report.jsonl  \n",
      "  inflating: ncbi_dataset/data/GCF_000008985.1/GCF_000008985.1_ASM898v1_genomic.fna  \n",
      "  inflating: ncbi_dataset/data/dataset_catalog.json  \n",
      "Cleaning ...\n",
      "Success!\n",
      "Writing script ...\n",
      "Running script ...\n"
     ]
    },
    {
     "name": "stderr",
     "output_type": "stream",
     "text": [
      "100  550k    0  550k    0     0   563k      0 --:--:-- --:--:-- --:--:--  563k\n",
      "mv: ./README.md and ./README.md are identical\n",
      "usage: rm [-f | -i] [-dIPRrvWx] file ...\n",
      "       unlink [--] file\n",
      "  % Total    % Received % Xferd  Average Speed   Time    Time     Time  Current\n",
      "                                 Dload  Upload   Total   Spent    Left  Speed\n",
      "  0     0    0     0    0     0      0      0 --:--:-- --:--:-- --:--:--     0"
     ]
    },
    {
     "name": "stdout",
     "output_type": "stream",
     "text": [
      "Extracting and cleaning ... \n",
      "Archive:  GCF_019703545.1.zip\n",
      "  inflating: README.md               \n",
      "  inflating: ncbi_dataset/data/assembly_data_report.jsonl  \n",
      "  inflating: ncbi_dataset/data/GCF_019703545.1/GCF_019703545.1_ASM1970354v1_genomic.fna  \n",
      "  inflating: ncbi_dataset/data/dataset_catalog.json  \n",
      "Cleaning ...\n",
      "Success!\n",
      "Writing script ...\n",
      "Running script ...\n"
     ]
    },
    {
     "name": "stderr",
     "output_type": "stream",
     "text": [
      "100  446k    0  446k    0     0   879k      0 --:--:-- --:--:-- --:--:--  879k\n",
      "mv: ./README.md and ./README.md are identical\n",
      "usage: rm [-f | -i] [-dIPRrvWx] file ...\n",
      "       unlink [--] file\n",
      "  % Total    % Received % Xferd  Average Speed   Time    Time     Time  Current\n",
      "                                 Dload  Upload   Total   Spent    Left  Speed\n",
      "  0     0    0     0    0     0      0      0 --:--:-- --:--:-- --:--:--     0"
     ]
    },
    {
     "name": "stdout",
     "output_type": "stream",
     "text": [
      "Extracting and cleaning ... \n",
      "Archive:  GCF_001653455.1.zip\n",
      "  inflating: README.md               \n",
      "  inflating: ncbi_dataset/data/assembly_data_report.jsonl  \n",
      "  inflating: ncbi_dataset/data/GCF_001653455.1/GCF_001653455.1_ASM165345v1_genomic.fna  \n",
      "  inflating: ncbi_dataset/data/dataset_catalog.json  \n",
      "Cleaning ...\n",
      "Success!\n",
      "Writing script ...\n",
      "Running script ...\n"
     ]
    },
    {
     "name": "stderr",
     "output_type": "stream",
     "text": [
      "100  986k    0  986k    0     0  1865k      0 --:--:-- --:--:-- --:--:-- 1864k\n",
      "mv: ./README.md and ./README.md are identical\n",
      "usage: rm [-f | -i] [-dIPRrvWx] file ...\n",
      "       unlink [--] file\n",
      "  % Total    % Received % Xferd  Average Speed   Time    Time     Time  Current\n",
      "                                 Dload  Upload   Total   Spent    Left  Speed\n",
      "  0     0    0     0    0     0      0      0 --:--:-- --:--:-- --:--:--     0"
     ]
    },
    {
     "name": "stdout",
     "output_type": "stream",
     "text": [
      "Extracting and cleaning ... \n",
      "Archive:  GCF_000008485.1.zip\n",
      "  inflating: README.md               \n",
      "  inflating: ncbi_dataset/data/assembly_data_report.jsonl  \n",
      "  inflating: ncbi_dataset/data/GCF_000008485.1/GCF_000008485.1_ASM848v1_genomic.fna  \n",
      "  inflating: ncbi_dataset/data/dataset_catalog.json  \n",
      "Cleaning ...\n",
      "Success!\n",
      "Writing script ...\n",
      "Running script ...\n"
     ]
    },
    {
     "name": "stderr",
     "output_type": "stream",
     "text": [
      "100 1313k    0 1313k    0     0   673k      0 --:--:--  0:00:01 --:--:--  673k\n",
      "mv: ./README.md and ./README.md are identical\n",
      "usage: rm [-f | -i] [-dIPRrvWx] file ...\n",
      "       unlink [--] file\n",
      "  % Total    % Received % Xferd  Average Speed   Time    Time     Time  Current\n",
      "                                 Dload  Upload   Total   Spent    Left  Speed\n",
      "  0     0    0     0    0     0      0      0 --:--:-- --:--:-- --:--:--     0"
     ]
    },
    {
     "name": "stdout",
     "output_type": "stream",
     "text": [
      "Extracting and cleaning ... \n",
      "Archive:  GCF_900156205.1.zip\n",
      "  inflating: README.md               \n",
      "  inflating: ncbi_dataset/data/assembly_data_report.jsonl  \n",
      "  inflating: ncbi_dataset/data/GCF_900156205.1/GCF_900156205.1_IMG-taxon_2681812812_annotated_assembly_genomic.fna  \n",
      "  inflating: ncbi_dataset/data/dataset_catalog.json  \n",
      "Cleaning ...\n",
      "Success!\n",
      "Writing script ...\n",
      "Running script ...\n"
     ]
    },
    {
     "name": "stderr",
     "output_type": "stream",
     "text": [
      "100 1139k    0 1139k    0     0  1692k      0 --:--:-- --:--:-- --:--:-- 1690k\n",
      "mv: ./README.md and ./README.md are identical\n",
      "usage: rm [-f | -i] [-dIPRrvWx] file ...\n",
      "       unlink [--] file\n",
      "  % Total    % Received % Xferd  Average Speed   Time    Time     Time  Current\n",
      "                                 Dload  Upload   Total   Spent    Left  Speed\n",
      "  0     0    0     0    0     0      0      0 --:--:-- --:--:-- --:--:--     0"
     ]
    },
    {
     "name": "stdout",
     "output_type": "stream",
     "text": [
      "Extracting and cleaning ... \n",
      "Archive:  GCF_000313175.2.zip\n",
      "  inflating: README.md               \n",
      "  inflating: ncbi_dataset/data/assembly_data_report.jsonl  \n",
      "  inflating: ncbi_dataset/data/GCF_000313175.2/GCF_000313175.2_ASM31317v2_genomic.fna  \n",
      "  inflating: ncbi_dataset/data/dataset_catalog.json  \n",
      "Cleaning ...\n",
      "Success!\n",
      "Writing script ...\n",
      "Running script ...\n"
     ]
    },
    {
     "name": "stderr",
     "output_type": "stream",
     "text": [
      "100 1158k    0 1158k    0     0   967k      0 --:--:--  0:00:01 --:--:--  967k\n",
      "mv: ./README.md and ./README.md are identical\n",
      "usage: rm [-f | -i] [-dIPRrvWx] file ...\n",
      "       unlink [--] file\n",
      "  % Total    % Received % Xferd  Average Speed   Time    Time     Time  Current\n",
      "                                 Dload  Upload   Total   Spent    Left  Speed\n",
      "  0     0    0     0    0     0      0      0 --:--:-- --:--:-- --:--:--     0"
     ]
    },
    {
     "name": "stdout",
     "output_type": "stream",
     "text": [
      "Extracting and cleaning ... \n",
      "Archive:  GCF_000332415.1.zip\n",
      "  inflating: README.md               \n",
      "  inflating: ncbi_dataset/data/assembly_data_report.jsonl  \n",
      "  inflating: ncbi_dataset/data/GCF_000332415.1/GCF_000332415.1_gls454060v02_genomic.fna  \n",
      "  inflating: ncbi_dataset/data/dataset_catalog.json  \n",
      "Cleaning ...\n",
      "Success!\n",
      "Writing script ...\n",
      "Running script ...\n"
     ]
    },
    {
     "name": "stderr",
     "output_type": "stream",
     "text": [
      "100 1349k    0 1349k    0     0  1522k      0 --:--:-- --:--:-- --:--:-- 1521k\n",
      "mv: ./README.md and ./README.md are identical\n",
      "usage: rm [-f | -i] [-dIPRrvWx] file ...\n",
      "       unlink [--] file\n",
      "  % Total    % Received % Xferd  Average Speed   Time    Time     Time  Current\n",
      "                                 Dload  Upload   Total   Spent    Left  Speed\n",
      "  0     0    0     0    0     0      0      0 --:--:-- --:--:-- --:--:--     0"
     ]
    },
    {
     "name": "stdout",
     "output_type": "stream",
     "text": [
      "Extracting and cleaning ... \n",
      "Archive:  GCF_000306255.2.zip\n",
      "  inflating: README.md               \n",
      "  inflating: ncbi_dataset/data/assembly_data_report.jsonl  \n",
      "  inflating: ncbi_dataset/data/GCF_000306255.2/GCF_000306255.2_gls454059v02_genomic.fna  \n",
      "  inflating: ncbi_dataset/data/dataset_catalog.json  \n",
      "Cleaning ...\n",
      "Success!\n",
      "Writing script ...\n",
      "Running script ...\n"
     ]
    },
    {
     "name": "stderr",
     "output_type": "stream",
     "text": [
      "100  853k    0  853k    0     0   369k      0 --:--:--  0:00:02 --:--:--  369k\n",
      "mv: ./README.md and ./README.md are identical\n",
      "usage: rm [-f | -i] [-dIPRrvWx] file ...\n",
      "       unlink [--] file\n",
      "  % Total    % Received % Xferd  Average Speed   Time    Time     Time  Current\n",
      "                                 Dload  Upload   Total   Spent    Left  Speed\n",
      "  0     0    0     0    0     0      0      0 --:--:-- --:--:-- --:--:--     0"
     ]
    },
    {
     "name": "stdout",
     "output_type": "stream",
     "text": [
      "Extracting and cleaning ... \n",
      "Archive:  GCF_000307025.1.zip\n",
      "  inflating: README.md               \n",
      "  inflating: ncbi_dataset/data/assembly_data_report.jsonl  \n",
      "  inflating: ncbi_dataset/data/GCF_000307025.1/GCF_000307025.1_ASM30702v1_genomic.fna  \n",
      "  inflating: ncbi_dataset/data/dataset_catalog.json  \n",
      "Cleaning ...\n",
      "Success!\n",
      "Writing script ...\n",
      "Running script ...\n"
     ]
    },
    {
     "name": "stderr",
     "output_type": "stream",
     "text": [
      "100 1127k    0 1127k    0     0   393k      0 --:--:--  0:00:02 --:--:--  393k\n",
      "mv: ./README.md and ./README.md are identical\n",
      "usage: rm [-f | -i] [-dIPRrvWx] file ...\n",
      "       unlink [--] file\n",
      "  % Total    % Received % Xferd  Average Speed   Time    Time     Time  Current\n",
      "                                 Dload  Upload   Total   Spent    Left  Speed\n",
      "  0     0    0     0    0     0      0      0 --:--:-- --:--:-- --:--:--     0"
     ]
    },
    {
     "name": "stdout",
     "output_type": "stream",
     "text": [
      "Extracting and cleaning ... \n",
      "Archive:  GCA_002291465.1.zip\n",
      "  inflating: README.md               \n",
      "  inflating: ncbi_dataset/data/assembly_data_report.jsonl  \n",
      "  inflating: ncbi_dataset/data/GCA_002291465.1/GCA_002291465.1_ASM229146v1_genomic.fna  \n",
      "  inflating: ncbi_dataset/data/dataset_catalog.json  \n",
      "Cleaning ...\n",
      "Success!\n",
      "Writing script ...\n",
      "Running script ...\n"
     ]
    },
    {
     "name": "stderr",
     "output_type": "stream",
     "text": [
      "100 1250k    0 1250k    0     0  1054k      0 --:--:--  0:00:01 --:--:-- 1054k\n",
      "mv: ./README.md and ./README.md are identical\n",
      "usage: rm [-f | -i] [-dIPRrvWx] file ...\n",
      "       unlink [--] file\n",
      "  % Total    % Received % Xferd  Average Speed   Time    Time     Time  Current\n",
      "                                 Dload  Upload   Total   Spent    Left  Speed\n",
      "  0     0    0     0    0     0      0      0 --:--:-- --:--:-- --:--:--     0"
     ]
    },
    {
     "name": "stdout",
     "output_type": "stream",
     "text": [
      "Extracting and cleaning ... \n",
      "Archive:  GCF_000195955.2.zip\n",
      "  inflating: README.md               \n",
      "  inflating: ncbi_dataset/data/assembly_data_report.jsonl  \n",
      "  inflating: ncbi_dataset/data/GCF_000195955.2/GCF_000195955.2_ASM19595v2_genomic.fna  \n",
      "  inflating: ncbi_dataset/data/dataset_catalog.json  \n",
      "Cleaning ...\n",
      "Success!\n",
      "Writing script ...\n",
      "Running script ...\n"
     ]
    },
    {
     "name": "stderr",
     "output_type": "stream",
     "text": [
      "100  237k    0  237k    0     0   520k      0 --:--:-- --:--:-- --:--:--  521k\n",
      "mv: ./README.md and ./README.md are identical\n",
      "usage: rm [-f | -i] [-dIPRrvWx] file ...\n",
      "       unlink [--] file\n",
      "  % Total    % Received % Xferd  Average Speed   Time    Time     Time  Current\n",
      "                                 Dload  Upload   Total   Spent    Left  Speed\n",
      "  0     0    0     0    0     0      0      0 --:--:-- --:--:-- --:--:--     0"
     ]
    },
    {
     "name": "stdout",
     "output_type": "stream",
     "text": [
      "Extracting and cleaning ... \n",
      "Archive:  GCF_001272835.1.zip\n",
      "  inflating: README.md               \n",
      "  inflating: ncbi_dataset/data/assembly_data_report.jsonl  \n",
      "  inflating: ncbi_dataset/data/GCF_001272835.1/GCF_001272835.1_ASM127283v1_genomic.fna  \n",
      "  inflating: ncbi_dataset/data/dataset_catalog.json  \n",
      "Cleaning ...\n",
      "Success!\n",
      "Writing script ...\n",
      "Running script ...\n"
     ]
    },
    {
     "name": "stderr",
     "output_type": "stream",
     "text": [
      "100  617k    0  617k    0     0  1207k      0 --:--:-- --:--:-- --:--:-- 1205k\n"
     ]
    },
    {
     "name": "stdout",
     "output_type": "stream",
     "text": [
      "Extracting and cleaning ... \n",
      "Archive:  GCF_003315235.1.zip\n",
      "  inflating: README.md               \n",
      "  inflating: ncbi_dataset/data/assembly_data_report.jsonl  \n",
      "  inflating: ncbi_dataset/data/GCF_003315235.1/GCF_003315235.1_ASM331523v1_genomic.fna  \n",
      "  inflating: ncbi_dataset/data/dataset_catalog.json  \n",
      "Cleaning ...\n",
      "Success!\n",
      "Writing script ...\n",
      "Running script ...\n"
     ]
    },
    {
     "name": "stderr",
     "output_type": "stream",
     "text": [
      "mv: ./README.md and ./README.md are identical\n",
      "usage: rm [-f | -i] [-dIPRrvWx] file ...\n",
      "       unlink [--] file\n",
      "  % Total    % Received % Xferd  Average Speed   Time    Time     Time  Current\n",
      "                                 Dload  Upload   Total   Spent    Left  Speed\n",
      "100  619k    0  619k    0     0   803k      0 --:--:-- --:--:-- --:--:--  802k\n",
      "mv: ./README.md and ./README.md are identical\n",
      "usage: rm [-f | -i] [-dIPRrvWx] file ...\n",
      "       unlink [--] file\n",
      "  % Total    % Received % Xferd  Average Speed   Time    Time     Time  Current\n",
      "                                 Dload  Upload   Total   Spent    Left  Speed\n",
      "  0     0    0     0    0     0      0      0 --:--:-- --:--:-- --:--:--     0"
     ]
    },
    {
     "name": "stdout",
     "output_type": "stream",
     "text": [
      "Extracting and cleaning ... \n",
      "Archive:  GCF_900638555.1.zip\n",
      "  inflating: README.md               \n",
      "  inflating: ncbi_dataset/data/assembly_data_report.jsonl  \n",
      "  inflating: ncbi_dataset/data/GCF_900638555.1/GCF_900638555.1_58116_A01_genomic.fna  \n",
      "  inflating: ncbi_dataset/data/dataset_catalog.json  \n",
      "Cleaning ...\n",
      "Success!\n",
      "Writing script ...\n",
      "Running script ...\n"
     ]
    },
    {
     "name": "stderr",
     "output_type": "stream",
     "text": [
      "100 1839k    0 1839k    0     0  1743k      0 --:--:--  0:00:01 --:--:-- 1745k\n"
     ]
    },
    {
     "name": "stdout",
     "output_type": "stream",
     "text": [
      "Extracting and cleaning ... \n",
      "Archive:  GCF_000017205.1.zip\n",
      "  inflating: README.md               \n",
      "  inflating: ncbi_dataset/data/assembly_data_report.jsonl  \n",
      "  inflating: ncbi_dataset/data/GCF_000017205.1/GCF_000017205.1_ASM1720v1_genomic.fna  \n",
      "  inflating: ncbi_dataset/data/dataset_catalog.json  \n",
      "Cleaning ...\n",
      "Success!\n",
      "Writing script ...\n",
      "Running script ...\n"
     ]
    },
    {
     "name": "stderr",
     "output_type": "stream",
     "text": [
      "mv: ./README.md and ./README.md are identical\n",
      "usage: rm [-f | -i] [-dIPRrvWx] file ...\n",
      "       unlink [--] file\n",
      "  % Total    % Received % Xferd  Average Speed   Time    Time     Time  Current\n",
      "                                 Dload  Upload   Total   Spent    Left  Speed\n",
      "100  364k    0  364k    0     0   623k      0 --:--:-- --:--:-- --:--:--  624k\n",
      "mv: ./README.md and ./README.md are identical\n",
      "usage: rm [-f | -i] [-dIPRrvWx] file ...\n",
      "       unlink [--] file\n",
      "  % Total    % Received % Xferd  Average Speed   Time    Time     Time  Current\n",
      "                                 Dload  Upload   Total   Spent    Left  Speed\n",
      "  0     0    0     0    0     0      0      0 --:--:-- --:--:-- --:--:--     0"
     ]
    },
    {
     "name": "stdout",
     "output_type": "stream",
     "text": [
      "Extracting and cleaning ... \n",
      "Archive:  GCF_001951015.1.zip\n",
      "  inflating: README.md               \n",
      "  inflating: ncbi_dataset/data/assembly_data_report.jsonl  \n",
      "  inflating: ncbi_dataset/data/GCF_001951015.1/GCF_001951015.1_ASM195101v1_genomic.fna  \n",
      "  inflating: ncbi_dataset/data/dataset_catalog.json  \n",
      "Cleaning ...\n",
      "Success!\n",
      "Writing script ...\n",
      "Running script ...\n"
     ]
    },
    {
     "name": "stderr",
     "output_type": "stream",
     "text": [
      "100  792k    0  792k    0     0  1080k      0 --:--:-- --:--:-- --:--:-- 1079k\n",
      "mv: ./README.md and ./README.md are identical\n",
      "usage: rm [-f | -i] [-dIPRrvWx] file ...\n",
      "       unlink [--] file\n",
      "  % Total    % Received % Xferd  Average Speed   Time    Time     Time  Current\n",
      "                                 Dload  Upload   Total   Spent    Left  Speed\n",
      "  0     0    0     0    0     0      0      0 --:--:-- --:--:-- --:--:--     0"
     ]
    },
    {
     "name": "stdout",
     "output_type": "stream",
     "text": [
      "Extracting and cleaning ... \n",
      "Archive:  GCF_001027105.1.zip\n",
      "  inflating: README.md               \n",
      "  inflating: ncbi_dataset/data/assembly_data_report.jsonl  \n",
      "  inflating: ncbi_dataset/data/GCF_001027105.1/GCF_001027105.1_ASM102710v1_genomic.fna  \n",
      "  inflating: ncbi_dataset/data/dataset_catalog.json  \n",
      "Cleaning ...\n",
      "Success!\n",
      "Writing script ...\n",
      "Running script ...\n"
     ]
    },
    {
     "name": "stderr",
     "output_type": "stream",
     "text": [
      "100  692k    0  692k    0     0  1182k      0 --:--:-- --:--:-- --:--:-- 1182k\n",
      "mv: ./README.md and ./README.md are identical\n",
      "usage: rm [-f | -i] [-dIPRrvWx] file ...\n",
      "       unlink [--] file\n",
      "  % Total    % Received % Xferd  Average Speed   Time    Time     Time  Current\n",
      "                                 Dload  Upload   Total   Spent    Left  Speed\n",
      "  0     0    0     0    0     0      0      0 --:--:-- --:--:-- --:--:--     0"
     ]
    },
    {
     "name": "stdout",
     "output_type": "stream",
     "text": [
      "Extracting and cleaning ... \n",
      "Archive:  GCF_006742205.1.zip\n",
      "  inflating: README.md               \n",
      "  inflating: ncbi_dataset/data/assembly_data_report.jsonl  \n",
      "  inflating: ncbi_dataset/data/GCF_006742205.1/GCF_006742205.1_ASM674220v1_genomic.fna  \n",
      "  inflating: ncbi_dataset/data/dataset_catalog.json  \n",
      "Cleaning ...\n",
      "Success!\n",
      "Writing script ...\n",
      "Running script ...\n"
     ]
    },
    {
     "name": "stderr",
     "output_type": "stream",
     "text": [
      "100  737k    0  737k    0     0   349k      0 --:--:--  0:00:02 --:--:--  349k\n",
      "mv: ./README.md and ./README.md are identical\n",
      "usage: rm [-f | -i] [-dIPRrvWx] file ...\n",
      "       unlink [--] file\n",
      "  % Total    % Received % Xferd  Average Speed   Time    Time     Time  Current\n",
      "                                 Dload  Upload   Total   Spent    Left  Speed\n",
      "  0     0    0     0    0     0      0      0 --:--:-- --:--:-- --:--:--     0"
     ]
    },
    {
     "name": "stdout",
     "output_type": "stream",
     "text": [
      "Extracting and cleaning ... \n",
      "Archive:  GCF_000010125.1.zip\n",
      "  inflating: README.md               \n",
      "  inflating: ncbi_dataset/data/assembly_data_report.jsonl  \n",
      "  inflating: ncbi_dataset/data/GCF_000010125.1/GCF_000010125.1_ASM1012v1_genomic.fna  \n",
      "  inflating: ncbi_dataset/data/dataset_catalog.json  \n",
      "Cleaning ...\n",
      "Success!\n",
      "Writing script ...\n",
      "Running script ...\n"
     ]
    },
    {
     "name": "stderr",
     "output_type": "stream",
     "text": [
      "100  620k    0  620k    0     0   968k      0 --:--:-- --:--:-- --:--:--  967k\n"
     ]
    },
    {
     "name": "stdout",
     "output_type": "stream",
     "text": [
      "Extracting and cleaning ... \n",
      "Archive:  GCF_000186445.1.zip\n",
      "  inflating: README.md               \n",
      "  inflating: ncbi_dataset/data/assembly_data_report.jsonl  \n",
      "  inflating: ncbi_dataset/data/GCF_000186445.1/GCF_000186445.1_ASM18644v1_genomic.fna  \n",
      "  inflating: ncbi_dataset/data/dataset_catalog.json  \n",
      "Cleaning ...\n",
      "Success!\n",
      "Writing script ...\n",
      "Running script ...\n"
     ]
    },
    {
     "name": "stderr",
     "output_type": "stream",
     "text": [
      "mv: ./README.md and ./README.md are identical\n",
      "usage: rm [-f | -i] [-dIPRrvWx] file ...\n",
      "       unlink [--] file\n",
      "  % Total    % Received % Xferd  Average Speed   Time    Time     Time  Current\n",
      "                                 Dload  Upload   Total   Spent    Left  Speed\n",
      "100  617k    0  617k    0     0   975k      0 --:--:-- --:--:-- --:--:--  977k\n",
      "mv: ./README.md and ./README.md are identical\n",
      "usage: rm [-f | -i] [-dIPRrvWx] file ...\n",
      "       unlink [--] file\n",
      "  % Total    % Received % Xferd  Average Speed   Time    Time     Time  Current\n",
      "                                 Dload  Upload   Total   Spent    Left  Speed\n",
      "  0     0    0     0    0     0      0      0 --:--:-- --:--:-- --:--:--     0"
     ]
    },
    {
     "name": "stdout",
     "output_type": "stream",
     "text": [
      "Extracting and cleaning ... \n",
      "Archive:  GCF_001096185.1.zip\n",
      "  inflating: README.md               \n",
      "  inflating: ncbi_dataset/data/assembly_data_report.jsonl  \n",
      "  inflating: ncbi_dataset/data/GCF_001096185.1/GCF_001096185.1_6775_1_8_genomic.fna  \n",
      "  inflating: ncbi_dataset/data/dataset_catalog.json  \n",
      "Cleaning ...\n",
      "Success!\n",
      "Writing script ...\n",
      "Running script ...\n"
     ]
    },
    {
     "name": "stderr",
     "output_type": "stream",
     "text": [
      "100  556k    0  556k    0     0   994k      0 --:--:-- --:--:-- --:--:--  993k\n",
      "mv: ./README.md and ./README.md are identical\n",
      "usage: rm [-f | -i] [-dIPRrvWx] file ...\n",
      "       unlink [--] file\n",
      "  % Total    % Received % Xferd  Average Speed   Time    Time     Time  Current\n",
      "                                 Dload  Upload   Total   Spent    Left  Speed\n",
      "  0     0    0     0    0     0      0      0 --:--:-- --:--:-- --:--:--     0"
     ]
    },
    {
     "name": "stdout",
     "output_type": "stream",
     "text": [
      "Extracting and cleaning ... \n",
      "Archive:  GCF_002055535.1.zip\n",
      "  inflating: README.md               \n",
      "  inflating: ncbi_dataset/data/assembly_data_report.jsonl  \n",
      "  inflating: ncbi_dataset/data/GCF_002055535.1/GCF_002055535.1_NCTC8198_genomic.fna  \n",
      "  inflating: ncbi_dataset/data/dataset_catalog.json  \n",
      "Cleaning ...\n",
      "Success!\n",
      "Writing script ...\n",
      "Running script ...\n"
     ]
    },
    {
     "name": "stderr",
     "output_type": "stream",
     "text": [
      "100  336k    0  336k    0     0   243k      0 --:--:--  0:00:01 --:--:--  243k\n",
      "mv: ./README.md and ./README.md are identical\n",
      "usage: rm [-f | -i] [-dIPRrvWx] file ...\n",
      "       unlink [--] file\n",
      "  % Total    % Received % Xferd  Average Speed   Time    Time     Time  Current\n",
      "                                 Dload  Upload   Total   Spent    Left  Speed\n",
      "  0     0    0     0    0     0      0      0 --:--:-- --:--:-- --:--:--     0"
     ]
    },
    {
     "name": "stdout",
     "output_type": "stream",
     "text": [
      "Extracting and cleaning ... \n",
      "Archive:  GCF_000410535.2.zip\n",
      "  inflating: README.md               \n",
      "  inflating: ncbi_dataset/data/assembly_data_report.jsonl  \n",
      "  inflating: ncbi_dataset/data/GCF_000410535.2/GCF_000410535.2_ASM41053v2_genomic.fna  \n",
      "  inflating: ncbi_dataset/data/dataset_catalog.json  \n",
      "Cleaning ...\n",
      "Success!\n",
      "Writing script ...\n",
      "Running script ...\n"
     ]
    },
    {
     "name": "stderr",
     "output_type": "stream",
     "text": [
      "100  242k    0  242k    0     0   488k      0 --:--:-- --:--:-- --:--:--  489k\n",
      "mv: ./README.md and ./README.md are identical\n",
      "usage: rm [-f | -i] [-dIPRrvWx] file ...\n",
      "       unlink [--] file\n",
      "  % Total    % Received % Xferd  Average Speed   Time    Time     Time  Current\n",
      "                                 Dload  Upload   Total   Spent    Left  Speed\n",
      "  0     0    0     0    0     0      0      0 --:--:-- --:--:-- --:--:--     0"
     ]
    },
    {
     "name": "stdout",
     "output_type": "stream",
     "text": [
      "Extracting and cleaning ... \n",
      "Archive:  GCF_000169535.1.zip\n",
      "  inflating: README.md               \n",
      "  inflating: ncbi_dataset/data/assembly_data_report.jsonl  \n",
      "  inflating: ncbi_dataset/data/GCF_000169535.1/GCF_000169535.1_ASM16953v1_genomic.fna  \n",
      "  inflating: ncbi_dataset/data/dataset_catalog.json  \n",
      "Cleaning ...\n",
      "Success!\n",
      "Writing script ...\n",
      "Running script ...\n"
     ]
    },
    {
     "name": "stderr",
     "output_type": "stream",
     "text": [
      "100 1180k    0 1180k    0     0   350k      0 --:--:--  0:00:03 --:--:--  350k\n",
      "mv: ./README.md and ./README.md are identical\n",
      "usage: rm [-f | -i] [-dIPRrvWx] file ...\n",
      "       unlink [--] file\n",
      "  % Total    % Received % Xferd  Average Speed   Time    Time     Time  Current\n",
      "                                 Dload  Upload   Total   Spent    Left  Speed\n",
      "  0     0    0     0    0     0      0      0 --:--:-- --:--:-- --:--:--     0"
     ]
    },
    {
     "name": "stdout",
     "output_type": "stream",
     "text": [
      "Extracting and cleaning ... \n",
      "Archive:  GCF_000621645.1.zip\n",
      "  inflating: README.md               \n",
      "  inflating: ncbi_dataset/data/assembly_data_report.jsonl  \n",
      "  inflating: ncbi_dataset/data/GCF_000621645.1/GCF_000621645.1_ASM62164v1_genomic.fna  \n",
      "  inflating: ncbi_dataset/data/dataset_catalog.json  \n",
      "Cleaning ...\n",
      "Success!\n",
      "Writing script ...\n",
      "Running script ...\n"
     ]
    },
    {
     "name": "stderr",
     "output_type": "stream",
     "text": [
      "100 1389k    0 1389k    0     0  2023k      0 --:--:-- --:--:-- --:--:-- 2025k\n",
      "mv: ./README.md and ./README.md are identical\n",
      "usage: rm [-f | -i] [-dIPRrvWx] file ...\n",
      "       unlink [--] file\n",
      "  % Total    % Received % Xferd  Average Speed   Time    Time     Time  Current\n",
      "                                 Dload  Upload   Total   Spent    Left  Speed\n",
      "  0     0    0     0    0     0      0      0 --:--:-- --:--:-- --:--:--     0"
     ]
    },
    {
     "name": "stdout",
     "output_type": "stream",
     "text": [
      "Extracting and cleaning ... \n",
      "Archive:  GCF_900460465.1.zip\n",
      "  inflating: README.md               \n",
      "  inflating: ncbi_dataset/data/assembly_data_report.jsonl  \n",
      "  inflating: ncbi_dataset/data/GCF_900460465.1/GCF_900460465.1_57940_B01_genomic.fna  \n",
      "  inflating: ncbi_dataset/data/dataset_catalog.json  \n",
      "Cleaning ...\n",
      "Success!\n",
      "Writing script ...\n",
      "Running script ...\n"
     ]
    },
    {
     "name": "stderr",
     "output_type": "stream",
     "text": [
      "100 1109k    0 1109k    0     0   347k      0 --:--:--  0:00:03 --:--:--  347k"
     ]
    },
    {
     "name": "stdout",
     "output_type": "stream",
     "text": [
      "Extracting and cleaning ... \n",
      "Archive:  GCF_002082245.2.zip\n",
      "  inflating: README.md               \n",
      "  inflating: ncbi_dataset/data/assembly_data_report.jsonl  \n",
      "  inflating: ncbi_dataset/data/GCF_002082245.2/GCF_002082245.2_ASM208224v2_genomic.fna  \n",
      "  inflating: ncbi_dataset/data/dataset_catalog.json  \n",
      "Cleaning ...\n",
      "Success!\n"
     ]
    },
    {
     "name": "stderr",
     "output_type": "stream",
     "text": [
      "100 1479k    0 1479k    0     0   407k      0 --:--:--  0:00:03 --:--:--  407k\n",
      "mv: ./README.md and ./README.md are identical\n"
     ]
    }
   ],
   "source": [
    "for id, label in zip(ids, labels):\n",
    "    utils.download_fasta(id, os.path.join(dataset, label))"
   ]
  },
  {
   "cell_type": "code",
   "execution_count": null,
   "metadata": {},
   "outputs": [],
   "source": [
    "for dir in os.listdir(dataset):\n",
    "    if dir.startswith('.'):\n",
    "        continue\n",
    "    target = os.path.join(dataset, dir)\n",
    "    for fasta in os.listdir(target):\n",
    "        if fasta.startswith('.'):\n",
    "            continue\n",
    "        if not fasta.startswith('accession'):\n",
    "            seq = utils.read_fasta(os.path.join(target, fasta))\n",
    "            seq = utils.clean_fasta(seq)\n",
    "            utils.write_fastas(seq, dir, target)"
   ]
  }
 ],
 "metadata": {
  "kernelspec": {
   "display_name": "minimal_ds",
   "language": "python",
   "name": "python3"
  },
  "language_info": {
   "codemirror_mode": {
    "name": "ipython",
    "version": 3
   },
   "file_extension": ".py",
   "mimetype": "text/x-python",
   "name": "python",
   "nbconvert_exporter": "python",
   "pygments_lexer": "ipython3",
   "version": "3.12.2"
  }
 },
 "nbformat": 4,
 "nbformat_minor": 2
}
