{
 "cells": [
  {
   "cell_type": "markdown",
   "metadata": {},
   "source": [
    "# Data Collection and Preprocessing"
   ]
  },
  {
   "cell_type": "markdown",
   "metadata": {},
   "source": [
    "This script downloads and preprocesses the fasta files. Our target is to either write a representative of the species that is ~500000bp long, or store multiple sequences that add up to 500000bp."
   ]
  },
  {
   "cell_type": "code",
   "execution_count": 1,
   "metadata": {},
   "outputs": [],
   "source": [
    "import os\n",
    "import utilities as utils\n",
    "import numpy as np"
   ]
  },
  {
   "cell_type": "code",
   "execution_count": 2,
   "metadata": {},
   "outputs": [],
   "source": [
    "with open('non_labs.txt', 'r') as f:\n",
    "    labels = ['_'.join(line.split()) for line in f]"
   ]
  },
  {
   "cell_type": "code",
   "execution_count": 3,
   "metadata": {},
   "outputs": [],
   "source": [
    "curls = 'non_curls'"
   ]
  },
  {
   "cell_type": "code",
   "execution_count": 4,
   "metadata": {},
   "outputs": [],
   "source": [
    "listing = os.listdir(curls)\n",
    "ids = []\n",
    "for i in range(len(listing)):\n",
    "    path = os.path.join(curls, f'gtdb-adv-search-genomes ({i+1}).sh')\n",
    "    with open(path, 'r') as f:\n",
    "        next(f)\n",
    "        tmp = f.read()\n",
    "        parts = tmp.split('\"')\n",
    "        url = parts[1]\n",
    "        id = url.split('=')[-1].split('&')[0].split('.zip')[0]\n",
    "        ids.append(id)"
   ]
  },
  {
   "cell_type": "code",
   "execution_count": 5,
   "metadata": {},
   "outputs": [],
   "source": [
    "dataset = 'non_dataset'"
   ]
  },
  {
   "cell_type": "code",
   "execution_count": null,
   "metadata": {},
   "outputs": [],
   "source": [
    "for id, label in zip(ids, labels):\n",
    "    utils.download_fasta(id, os.path.join(dataset, label))"
   ]
  },
  {
   "cell_type": "code",
   "execution_count": 7,
   "metadata": {},
   "outputs": [],
   "source": [
    "for dir in os.listdir(dataset):\n",
    "    if dir.startswith('.'):\n",
    "        continue\n",
    "    target = os.path.join(dataset, dir)\n",
    "    for fasta in os.listdir(target):\n",
    "        if fasta.startswith('.'):\n",
    "            continue\n",
    "        seq = utils.read_fasta(os.path.join(target, fasta))\n",
    "        seq = utils.clean_fasta(seq)\n",
    "        utils.write_fastas(seq, dir, 'non_target')"
   ]
  },
  {
   "cell_type": "code",
   "execution_count": 8,
   "metadata": {},
   "outputs": [],
   "source": [
    "data = 'non_target'\n",
    "repr = 'non_repr'"
   ]
  },
  {
   "cell_type": "code",
   "execution_count": 9,
   "metadata": {},
   "outputs": [],
   "source": [
    "MAX_LEN = 500000\n",
    "\n",
    "if not os.path.exists(data):\n",
    "    os.makedirs(data)\n",
    "if not os.path.exists(repr):\n",
    "    os.makedirs(repr)\n",
    "\n",
    "for folder in os.listdir(data):\n",
    "    if folder.startswith('.'):\n",
    "        continue\n",
    "    count = 0\n",
    "    seqs = []\n",
    "    pwd = os.path.join(data, folder)\n",
    "    for file in os.listdir(pwd):\n",
    "        file_path = os.path.join(pwd, file)\n",
    "        seq = utils.read_fasta(file_path)\n",
    "        seq = utils.clean_fasta(seq)\n",
    "        ln = len(seq[0])\n",
    "        if not os.path.exists(os.path.join(repr, folder)):\n",
    "            os.makedirs(os.path.join(repr, folder))\n",
    "        if ln > MAX_LEN:\n",
    "            max_starting_index = ln - MAX_LEN\n",
    "            idx = np.random.randint(0, max_starting_index)\n",
    "            seq = [seq[0][idx:idx+MAX_LEN-1]]\n",
    "            utils.write_fastas(seq, folder, repr, f'{folder} representative_0')\n",
    "            break\n",
    "        if count < MAX_LEN:\n",
    "            if ln > MAX_LEN - count:\n",
    "                seqs.append(seq[0][:MAX_LEN-count])\n",
    "                count += MAX_LEN-count\n",
    "            else:\n",
    "                seqs.append(seq[0])\n",
    "                count += ln\n",
    "        else:\n",
    "            utils.write_fastas(seqs, folder, repr, f'{folder} representative')\n",
    "            break"
   ]
  },
  {
   "cell_type": "code",
   "execution_count": 10,
   "metadata": {},
   "outputs": [],
   "source": [
    "with open('patho_labs.txt', 'r') as f:\n",
    "    labels = [line.split(': s__')[1].strip() for line in f]"
   ]
  },
  {
   "cell_type": "code",
   "execution_count": 11,
   "metadata": {},
   "outputs": [],
   "source": [
    "curls = 'patho_curls'"
   ]
  },
  {
   "cell_type": "code",
   "execution_count": 12,
   "metadata": {},
   "outputs": [],
   "source": [
    "listing = os.listdir(curls)\n",
    "ids = []\n",
    "for i in range(len(listing)):\n",
    "    path = os.path.join(curls, f'gtdb-adv-search-genomes ({i+1}).sh')\n",
    "    with open(path, 'r') as f:\n",
    "        next(f)\n",
    "        tmp = f.read()\n",
    "        parts = tmp.split('\"')\n",
    "        url = parts[1]\n",
    "        id = url.split('=')[-1].split('&')[0].split('.zip')[0]\n",
    "        ids.append(id)"
   ]
  },
  {
   "cell_type": "code",
   "execution_count": 13,
   "metadata": {},
   "outputs": [],
   "source": [
    "dataset = 'patho_dataset'"
   ]
  },
  {
   "cell_type": "code",
   "execution_count": null,
   "metadata": {},
   "outputs": [],
   "source": [
    "for id, label in zip(ids, labels):\n",
    "    utils.download_fasta(id, os.path.join(dataset, label))"
   ]
  },
  {
   "cell_type": "code",
   "execution_count": 15,
   "metadata": {},
   "outputs": [],
   "source": [
    "for dir in os.listdir(dataset):\n",
    "    if dir.startswith('.'):\n",
    "        continue\n",
    "    target = os.path.join(dataset, dir)\n",
    "    for fasta in os.listdir(target):\n",
    "        if fasta.startswith('.'):\n",
    "            continue\n",
    "        seq = utils.read_fasta(os.path.join(target, fasta))\n",
    "        seq = utils.clean_fasta(seq)\n",
    "        utils.write_fastas(seq, dir, 'patho_target')"
   ]
  },
  {
   "cell_type": "code",
   "execution_count": 16,
   "metadata": {},
   "outputs": [],
   "source": [
    "data = 'patho_target'\n",
    "repr = 'patho_repr'"
   ]
  },
  {
   "cell_type": "code",
   "execution_count": 17,
   "metadata": {},
   "outputs": [],
   "source": [
    "MAX_LEN = 500000\n",
    "\n",
    "if not os.path.exists(data):\n",
    "    os.makedirs(data)\n",
    "if not os.path.exists(repr):\n",
    "    os.makedirs(repr)\n",
    "\n",
    "for folder in os.listdir(data):\n",
    "    if folder.startswith('.'):\n",
    "        continue\n",
    "    count = 0\n",
    "    seqs = []\n",
    "    pwd = os.path.join(data, folder)\n",
    "    for file in os.listdir(pwd):\n",
    "        file_path = os.path.join(pwd, file)\n",
    "        seq = utils.read_fasta(file_path)\n",
    "        seq = utils.clean_fasta(seq)\n",
    "        ln = len(seq[0])\n",
    "        if not os.path.exists(os.path.join(repr, folder)):\n",
    "            os.makedirs(os.path.join(repr, folder))\n",
    "        if ln > MAX_LEN:\n",
    "            max_starting_index = ln - MAX_LEN\n",
    "            idx = np.random.randint(0, max_starting_index)\n",
    "            seq = [seq[0][idx:idx+MAX_LEN-1]]\n",
    "            utils.write_fastas(seq, folder, repr, f'{folder} representative_0')\n",
    "            break\n",
    "        if count < MAX_LEN:\n",
    "            if ln > MAX_LEN - count:\n",
    "                seqs.append(seq[0][:MAX_LEN-count])\n",
    "                count += MAX_LEN-count\n",
    "            else:\n",
    "                seqs.append(seq[0])\n",
    "                count += ln\n",
    "        else:\n",
    "            utils.write_fastas(seqs, folder, repr, f'{folder} representative')\n",
    "            break\n"
   ]
  }
 ],
 "metadata": {
  "kernelspec": {
   "display_name": "minimal_ds",
   "language": "python",
   "name": "python3"
  },
  "language_info": {
   "codemirror_mode": {
    "name": "ipython",
    "version": 3
   },
   "file_extension": ".py",
   "mimetype": "text/x-python",
   "name": "python",
   "nbconvert_exporter": "python",
   "pygments_lexer": "ipython3",
   "version": "3.12.2"
  }
 },
 "nbformat": 4,
 "nbformat_minor": 2
}
