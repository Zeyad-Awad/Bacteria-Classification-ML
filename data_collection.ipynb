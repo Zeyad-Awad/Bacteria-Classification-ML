{
 "cells": [
  {
   "cell_type": "markdown",
   "metadata": {},
   "source": [
    "# Data Collection and Preprocessing"
   ]
  },
  {
   "cell_type": "code",
   "execution_count": 8,
   "metadata": {},
   "outputs": [],
   "source": [
    "import os\n",
    "import utilities as utils"
   ]
  },
  {
   "cell_type": "code",
   "execution_count": 9,
   "metadata": {},
   "outputs": [],
   "source": [
    "with open('out.txt', 'r') as f:\n",
    "    names = [line.split(': s__')[1].strip() for line in f]"
   ]
  },
  {
   "cell_type": "code",
   "execution_count": 29,
   "metadata": {},
   "outputs": [],
   "source": [
    "listing = os.listdir('curls')\n",
    "ids = []\n",
    "for i in range(len(listing)):\n",
    "    path = os.path.join('curls', f'gtdb-adv-search-genomes ({i+1}).sh')\n",
    "    with open(path, 'r') as f:\n",
    "        next(f)\n",
    "        tmp = f.read()\n",
    "        parts = tmp.split('\"')\n",
    "        url = parts[1]\n",
    "        id = url.split('=')[-1].split('&')[0].split('.zip')[0]\n",
    "        ids.append(id)"
   ]
  },
  {
   "cell_type": "code",
   "execution_count": null,
   "metadata": {},
   "outputs": [],
   "source": [
    "ids, labels = utils.get_ids_and_labels('names/names.txt')\n",
    "dataset = 'data'"
   ]
  },
  {
   "cell_type": "code",
   "execution_count": null,
   "metadata": {},
   "outputs": [],
   "source": [
    "for id, label in zip(ids, labels):\n",
    "    utils.download_fasta(id, os.path.join(dataset, label))"
   ]
  },
  {
   "cell_type": "code",
   "execution_count": null,
   "metadata": {},
   "outputs": [],
   "source": [
    "for dir in os.listdir(dataset):\n",
    "    if dir.startswith('.'):\n",
    "        continue\n",
    "    target = os.path.join(dataset, dir)\n",
    "    for fasta in os.listdir(target):\n",
    "        if fasta.startswith('.'):\n",
    "            continue\n",
    "        if not fasta.startswith('accession'):\n",
    "            seq = utils.read_fasta(os.path.join(target, fasta))\n",
    "            seq = utils.clean_fasta(seq)\n",
    "            utils.write_fastas(seq, dir, target)"
   ]
  }
 ],
 "metadata": {
  "kernelspec": {
   "display_name": "minimal_ds",
   "language": "python",
   "name": "python3"
  },
  "language_info": {
   "codemirror_mode": {
    "name": "ipython",
    "version": 3
   },
   "file_extension": ".py",
   "mimetype": "text/x-python",
   "name": "python",
   "nbconvert_exporter": "python",
   "pygments_lexer": "ipython3",
   "version": "3.12.2"
  }
 },
 "nbformat": 4,
 "nbformat_minor": 2
}
