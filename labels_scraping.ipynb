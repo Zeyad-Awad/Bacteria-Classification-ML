{
 "cells": [
  {
   "cell_type": "markdown",
   "metadata": {},
   "source": [
    "# Labels (Pathogenic Bacteria Species) Scraping"
   ]
  },
  {
   "cell_type": "code",
   "execution_count": null,
   "metadata": {},
   "outputs": [],
   "source": [
    "import requests\n",
    "from bs4 import BeautifulSoup\n",
    "\n",
    "# URL of the Wikipedia page\n",
    "url = \"https://en.wikipedia.org/wiki/Pathogenic_bacteria\"\n",
    "\n",
    "# Send a GET request to the URL\n",
    "response = requests.get(url)\n",
    "\n",
    "# Parse the HTML content\n",
    "soup = BeautifulSoup(response.text, \"html.parser\")\n",
    "\n",
    "# Find the table containing the species information\n",
    "table = soup.find_all(\"table\", class_=\"wikitable\")[0]\n",
    "\n",
    "if table:\n",
    "    # Iterate over each row in the table and extract the species name from the first column\n",
    "    species_names = []\n",
    "    for row in table.find_all(\"tr\"):\n",
    "        # Find the first cell in the row\n",
    "        try:\n",
    "            cell = row.find_all(\"td\")[1]\n",
    "        except:\n",
    "            continue\n",
    "        if cell:\n",
    "            # Find all <li> elements within the <ul> items in the cell\n",
    "            list_items = cell.find_all(\"ul\")\n",
    "            # Extract and split text from each <li> item\n",
    "            for item in list_items:\n",
    "                for li in item.find_all(\"li\"):\n",
    "                    species_names.append(li.get_text(strip=True))\n",
    "    # Print the list of species names\n",
    "    for name in species_names:\n",
    "        print(name)\n",
    "else:\n",
    "    print(\"Table not found on the page.\")\n",
    "\n",
    "with open('extracted.txt' ,'w') as f:\n",
    "    for sp in species_names:\n",
    "        f.write(f's__{sp.split()[0]}_{sp.split()[1].split('[')[0]}\\n')"
   ]
  }
 ],
 "metadata": {
  "kernelspec": {
   "display_name": "data_science",
   "language": "python",
   "name": "python3"
  },
  "language_info": {
   "codemirror_mode": {
    "name": "ipython",
    "version": 3
   },
   "file_extension": ".py",
   "mimetype": "text/x-python",
   "name": "python",
   "nbconvert_exporter": "python",
   "pygments_lexer": "ipython3",
   "version": "3.12.2"
  }
 },
 "nbformat": 4,
 "nbformat_minor": 2
}
