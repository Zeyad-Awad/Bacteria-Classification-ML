{
 "cells": [
  {
   "cell_type": "code",
   "execution_count": 6,
   "metadata": {},
   "outputs": [
    {
     "name": "stdout",
     "output_type": "stream",
     "text": [
      "['GCF_000204565.1', 'GCF_001276985.1', 'GCF_017100085.1', 'GCF_000827935.1']\n"
     ]
    }
   ],
   "source": [
    "file_names = []\n",
    "with open('deltxt.txt','r') as f:\n",
    "    next(f)\n",
    "    curl_commands = [line.strip() for line in f]\n",
    "for command in curl_commands:\n",
    "    parts = command.split('\"')\n",
    "    url = parts[1]\n",
    "    file_name = url.split('=')[-1].split('&')[0].split('.zip')[0]\n",
    "    file_names.append(file_name)\n",
    "\n",
    "print(file_names)"
   ]
  }
 ],
 "metadata": {
  "kernelspec": {
   "display_name": "data_science",
   "language": "python",
   "name": "python3"
  },
  "language_info": {
   "codemirror_mode": {
    "name": "ipython",
    "version": 3
   },
   "file_extension": ".py",
   "mimetype": "text/x-python",
   "name": "python",
   "nbconvert_exporter": "python",
   "pygments_lexer": "ipython3",
   "version": "3.12.2"
  }
 },
 "nbformat": 4,
 "nbformat_minor": 2
}
