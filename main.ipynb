{
 "cells": [
  {
   "cell_type": "markdown",
   "metadata": {},
   "source": [
    "# Thanaweya Amma Grades Analysis"
   ]
  },
  {
   "cell_type": "code",
   "execution_count": 6,
   "metadata": {},
   "outputs": [],
   "source": [
    "# Import libraries\n",
    "import pandas as pd\n",
    "from bs4 import BeautifulSoup\n",
    "from selenium import webdriver\n",
    "from selenium.webdriver.common.by import By\n",
    "from selenium.webdriver.common.keys import Keys\n",
    "\n",
    "import time\n",
    "import matplotlib.pyplot as plt\n",
    "import random\n",
    "random.seed(42)"
   ]
  },
  {
   "cell_type": "markdown",
   "metadata": {},
   "source": [
    "## Data Scraping"
   ]
  },
  {
   "cell_type": "code",
   "execution_count": 7,
   "metadata": {},
   "outputs": [],
   "source": [
    "with open('extracted.txt', 'r') as f:\n",
    "    names = [line.strip() for line in f]"
   ]
  },
  {
   "cell_type": "code",
   "execution_count": 8,
   "metadata": {},
   "outputs": [
    {
     "name": "stderr",
     "output_type": "stream",
     "text": [
      "/var/folders/f0/9mpvthp932lfvdkms8zjb2600000gn/T/ipykernel_62204/3412027653.py:3: DeprecationWarning: executable_path has been deprecated, please pass in a Service object\n",
      "  driver = webdriver.Chrome(executable_path='/usr/local/bin/chromedriver')\n"
     ]
    }
   ],
   "source": [
    "# Initiate the bot\n",
    "url = 'https://gtdb.ecogenomic.org/advanced?exp=KDEmMiYzJig2KSk~&1=NX42fm51bGw~&2=N345fjU~&3=Nn4xMX45NQ~~&6=Mn4yfmtraw~~'\n",
    "driver = webdriver.Chrome(executable_path='/usr/local/bin/chromedriver')\n",
    "driver.get(url)\n",
    "action = webdriver.ActionChains(driver)"
   ]
  },
  {
   "cell_type": "code",
   "execution_count": 20,
   "metadata": {},
   "outputs": [
    {
     "name": "stdout",
     "output_type": "stream",
     "text": [
      "Downloaded s__Bacillus_anthracis\n",
      "Downloaded: s__Bacillus_cereus\n",
      "Downloaded: s__Bartonella_henselae\n",
      "Downloaded: s__Bartonella_quintana\n",
      "Downloaded: s__Bordetella_pertussis\n",
      "Failed: s__Borrelia_burgdorferi\n",
      "Failed: s__Borrelia_garinii\n",
      "Failed: s__Borrelia_afzelii\n",
      "Downloaded: s__Borrelia_recurrentis\n",
      "Failed: s__Brucella_abortus\n",
      "Failed: s__Brucella_canis\n",
      "Downloaded: s__Brucella_melitensis\n",
      "Failed: s__Brucella_suis\n",
      "Downloaded: s__Campylobacter_jejuni\n",
      "Downloaded: s__Chlamydia_pneumoniae\n",
      "Downloaded: s__Chlamydia_trachomatis\n",
      "Failed: s__Chlamydophila_psittaci\n",
      "Downloaded: s__Clostridium_botulinum\n",
      "Failed: s__Clostridium_difficile\n",
      "Downloaded: s__Clostridium_perfringens\n",
      "Downloaded: s__Clostridium_tetani\n",
      "Downloaded: s__Corynebacterium_diphtheriae\n",
      "Downloaded: s__Enterococcus_faecalis\n",
      "Downloaded: s__Enterococcus_faecium\n",
      "Downloaded: s__Escherichia_coli\n",
      "Downloaded: s__Francisella_tularensis\n",
      "Downloaded: s__Haemophilus_influenzae\n",
      "Downloaded: s__Helicobacter_pylori\n",
      "Downloaded: s__Legionella_pneumophila\n",
      "Downloaded: s__Leptospira_interrogans\n",
      "Downloaded: s__Leptospira_santarosai\n",
      "Downloaded: s__Leptospira_weilii\n",
      "Downloaded: s__Leptospira_noguchii\n",
      "Downloaded: s__Listeria_monocytogenes\n",
      "Downloaded: s__Mycobacterium_leprae\n",
      "Downloaded: s__Mycobacterium_tuberculosis\n",
      "Failed: s__Mycobacterium_ulcerans\n",
      "Downloaded: s__Mycoplasma_pneumoniae\n",
      "Downloaded: s__Neisseria_gonorrhoeae\n",
      "Downloaded: s__Neisseria_meningitidis\n",
      "Downloaded: s__Pseudomonas_aeruginosa\n",
      "Downloaded: s__Rickettsia_rickettsii\n",
      "Failed: s__Salmonella_typhi\n",
      "Failed: s__Salmonella_typhimurium\n",
      "Failed: s__Shigella_sonnei\n",
      "Downloaded: s__Staphylococcus_aureus\n",
      "Downloaded: s__Staphylococcus_epidermidis\n",
      "Downloaded: s__Staphylococcus_saprophyticus\n",
      "Downloaded: s__Streptococcus_agalactiae\n",
      "Downloaded: s__Streptococcus_pneumoniae\n",
      "Downloaded: s__Streptococcus_pyogenes\n",
      "Downloaded: s__Treponema_pallidum\n",
      "Downloaded: s__Ureaplasma_urealyticum\n",
      "Downloaded: s__Vibrio_cholerae\n",
      "Downloaded: s__Yersinia_pestis\n",
      "Downloaded: s__Yersinia_enterocolitica\n",
      "Failed: s__Yersinia_pseudotuberculosis\n"
     ]
    }
   ],
   "source": [
    "inpt = driver.find_element(By.XPATH, '/html/body/div/div/div/div/main/div/div/div/div[1]/div/div/div[2]/div/div/div[5]/div/div[2]/div/div/div[3]/div/div/div/div[1]/input')\n",
    "submit = driver.find_element(By.XPATH, '//*[@id=\"app\"]/div/main/div/div/div/div[1]/div/div/div[3]/button/span')\n",
    "inpt.click()\n",
    "inpt.clear()\n",
    "inpt.send_keys(Keys.COMMAND, 'a')\n",
    "inpt.send_keys(Keys.DELETE)\n",
    "inpt.send_keys(names[0])\n",
    "submit.click()\n",
    "time.sleep(4)\n",
    "download = driver.find_element(By.XPATH, '//*[@id=\"app\"]/div[1]/main/div/div/div/div[2]/div/div[1]/div/button/span')\n",
    "download.click()\n",
    "time.sleep(3)\n",
    "##curl = driver.find_element(By.XPATH, '//*[@id=\"app\"]/div[3]/div/div/div[3]/button[1]')\n",
    "#nowhere = driver.find_element(By.XPATH, '//*[@id=\"app\"]/div[4]/div/div/div[2]/div/div/div[5]/div/div[1]/label')\n",
    "action.key_down(Keys.COMMAND).click(curl).key_up(Keys.COMMAND).perform()\n",
    "time.sleep(1.5)\n",
    "nowhere.click()\n",
    "nowhere.click()\n",
    "webdriver.ActionChains(driver).send_keys(Keys.ESCAPE).perform()\n",
    "print(f'Downloaded {names[0]}')\n",
    "\n",
    "for name in names[1:]:\n",
    "    try:\n",
    "        webdriver.ActionChains(driver).send_keys(Keys.ESCAPE).perform()\n",
    "        inpt.click()\n",
    "        inpt.clear()\n",
    "        inpt.send_keys(Keys.COMMAND, 'a')\n",
    "        inpt.send_keys(Keys.DELETE)\n",
    "        inpt.send_keys(name)\n",
    "        submit.click()\n",
    "        time.sleep(9)\n",
    "        download.click()\n",
    "        time.sleep(0.8)\n",
    "        action.key_down(Keys.COMMAND).click(curl).key_up(Keys.COMMAND).perform()\n",
    "        time.sleep(0.1)\n",
    "        nowhere.click() \n",
    "        nowhere.click()\n",
    "        webdriver.ActionChains(driver).send_keys(Keys.ESCAPE).perform()\n",
    "        print(f'Downloaded: {name}')\n",
    "    except:\n",
    "        print(f'Failed: {name}')"
   ]
  },
  {
   "cell_type": "code",
   "execution_count": 18,
   "metadata": {},
   "outputs": [],
   "source": [
    "nowhere = driver.find_element(By.XPATH, '//*[@id=\"app\"]/div[3]/div/div/div[2]/div/div/div[5]/div/div[1]/label')\n"
   ]
  },
  {
   "cell_type": "code",
   "execution_count": null,
   "metadata": {},
   "outputs": [],
   "source": [
    "with open('out.txt', 'r') as f:\n",
    "    out"
   ]
  }
 ],
 "metadata": {
  "kernelspec": {
   "display_name": "minimal_ds",
   "language": "python",
   "name": "python3"
  },
  "language_info": {
   "codemirror_mode": {
    "name": "ipython",
    "version": 3
   },
   "file_extension": ".py",
   "mimetype": "text/x-python",
   "name": "python",
   "nbconvert_exporter": "python",
   "pygments_lexer": "ipython3",
   "version": "3.12.2"
  },
  "orig_nbformat": 4
 },
 "nbformat": 4,
 "nbformat_minor": 2
}
